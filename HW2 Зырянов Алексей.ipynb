{
 "cells": [
  {
   "cell_type": "markdown",
   "metadata": {},
   "source": [
    "### БД из customer.csv и transaction.csv\n",
    "Я так понимаю в csv те же тамблицы, что были в прошлом задании. Поэтому использую созданную в прошлом ДЗ базу:"
   ]
  },
  {
   "cell_type": "markdown",
   "metadata": {},
   "source": [
    "![Компьютер](./images/scheme.svg)"
   ]
  },
  {
   "cell_type": "markdown",
   "metadata": {},
   "source": [
    "#### 1. Вывести все уникальные бренды, у которых стандартная стоимость выше 1500 долларов."
   ]
  },
  {
   "cell_type": "code",
   "execution_count": null,
   "metadata": {
    "vscode": {
     "languageId": "sql"
    }
   },
   "outputs": [],
   "source": [
    "select distinct brand from products where standard_cost>1500;"
   ]
  },
  {
   "cell_type": "markdown",
   "metadata": {},
   "source": [
    "![HW2.1.png](./images/HW2.1.png)"
   ]
  },
  {
   "cell_type": "markdown",
   "metadata": {},
   "source": [
    "#### 2. Вывести все подтвержденные транзакции за период '2017-04-01' по '2017-04-09' включительно."
   ]
  },
  {
   "cell_type": "code",
   "execution_count": null,
   "metadata": {
    "vscode": {
     "languageId": "sql"
    }
   },
   "outputs": [],
   "source": [
    "select * from transactions t where t.transaction_date>='2017-04-01' and t.transaction_date<='2017-04-09' and t.order_status='Approved'"
   ]
  },
  {
   "cell_type": "markdown",
   "metadata": {},
   "source": [
    "![HW2.2.png](./images/HW2.2.png)"
   ]
  },
  {
   "cell_type": "markdown",
   "metadata": {},
   "source": [
    "#### 3. Вывести все профессии у клиентов из сферы IT или Financial Services, которые начинаются с фразы 'Senior'."
   ]
  },
  {
   "cell_type": "code",
   "execution_count": null,
   "metadata": {
    "vscode": {
     "languageId": "sql"
    }
   },
   "outputs": [],
   "source": [
    "select distinct c.job_title from customers c\n",
    "where (c.job_industry_category = 'Financial Services' or c.job_industry_category = 'IT')\n",
    "and c.job_title like 'Senior%'"
   ]
  },
  {
   "cell_type": "markdown",
   "metadata": {},
   "source": [
    "![HW2.3.png](./images/HW2.3.png)"
   ]
  },
  {
   "cell_type": "markdown",
   "metadata": {},
   "source": [
    "#### 4. Вывести все бренды, которые закупают клиенты, работающие в сфере Financial Services"
   ]
  },
  {
   "cell_type": "code",
   "execution_count": null,
   "metadata": {
    "vscode": {
     "languageId": "sql"
    }
   },
   "outputs": [],
   "source": [
    "--select p.brand, c.job_industry_category  from transactions t \n",
    "select distinct p.brand from transactions t \n",
    "left join products p on p.id=t.product_id\n",
    "left join customers c on c.id=t.customer_id\n",
    "where c.job_industry_category = 'Financial Services'"
   ]
  },
  {
   "cell_type": "markdown",
   "metadata": {},
   "source": [
    "![HW2.4.png](./images/HW2.4.png)"
   ]
  },
  {
   "cell_type": "markdown",
   "metadata": {},
   "source": [
    "#### 5. Вывести 10 клиентов, которые оформили онлайн-заказ продукции из брендов 'Giant Bicycles', 'Norco Bicycles', 'Trek Bicycles'.\n",
    "Да, я добавил p.brand для нагладности и из-за этого дублируются клиенты."
   ]
  },
  {
   "cell_type": "code",
   "execution_count": null,
   "metadata": {
    "vscode": {
     "languageId": "sql"
    }
   },
   "outputs": [],
   "source": [
    "select c.id, c.first_name, c.last_name, c.gender, c.\"DOB\", p.brand from transactions t \n",
    "left join products p on p.id=t.product_id\n",
    "left join customers c on c.id=t.customer_id\n",
    "where t.online_order=true and p.brand in ('Giant Bicycles', 'Norco Bicycles', 'Trek Bicycles')\n",
    "group by c.id, p.brand\n",
    "order by c.id\n",
    "limit 10"
   ]
  },
  {
   "cell_type": "markdown",
   "metadata": {},
   "source": [
    "![HW2.5.png](./images/HW2.5.png)"
   ]
  },
  {
   "cell_type": "markdown",
   "metadata": {},
   "source": [
    "#### 6. Вывести всех клиентов, у которых нет транзакций."
   ]
  },
  {
   "cell_type": "code",
   "execution_count": null,
   "metadata": {
    "vscode": {
     "languageId": "sql"
    }
   },
   "outputs": [],
   "source": [
    "SELECT c.id, c.first_name, c.last_name, c.gender, c.\"DOB\"\n",
    "FROM customers c\n",
    "LEFT JOIN transactions t ON c.id = t.customer_id\n",
    "WHERE t.customer_id IS NULL;"
   ]
  },
  {
   "cell_type": "markdown",
   "metadata": {},
   "source": [
    "![HW2.6.png](./images/HW2.6.png)"
   ]
  },
  {
   "cell_type": "markdown",
   "metadata": {},
   "source": [
    "#### 7. Вывести всех клиентов из IT, у которых транзакции с максимальной стандартной стоимостью."
   ]
  },
  {
   "cell_type": "code",
   "execution_count": null,
   "metadata": {
    "vscode": {
     "languageId": "sql"
    }
   },
   "outputs": [],
   "source": [
    "SELECT c.id, c.first_name, c.last_name, c.gender, c.\"DOB\", p.standard_cost \n",
    "FROM customers c\n",
    "JOIN transactions t ON c.id = t.customer_id\n",
    "JOIN products p ON t.product_id = p.id\n",
    "WHERE c.job_industry_category = 'IT'\n",
    "  AND p.standard_cost = (SELECT MAX(standard_cost) FROM products);"
   ]
  },
  {
   "cell_type": "markdown",
   "metadata": {},
   "source": [
    "![HW2.7.png](./images/HW2.7.png)"
   ]
  },
  {
   "cell_type": "markdown",
   "metadata": {},
   "source": [
    "#### 8. Вывести всех клиентов из сферы IT и Health, у которых есть подтвержденные транзакции за период '2017-07-07' по '2017-07-17'."
   ]
  },
  {
   "cell_type": "code",
   "execution_count": null,
   "metadata": {
    "vscode": {
     "languageId": "sql"
    }
   },
   "outputs": [],
   "source": [
    "SELECT c.id, c.first_name, c.last_name, c.gender, c.\"DOB\", c.job_industry_category\n",
    "FROM customers c\n",
    "JOIN transactions t ON c.id = t.customer_id\n",
    "WHERE c.job_industry_category IN ('IT', 'Health')\n",
    "  AND t.order_status = 'Approved'\n",
    "  AND t.transaction_date>='2017-07-07' AND t.transaction_date<='2017-07-17';"
   ]
  },
  {
   "cell_type": "markdown",
   "metadata": {},
   "source": [
    "![HW2.8.png](./images/HW2.8.png)"
   ]
  }
 ],
 "metadata": {
  "language_info": {
   "name": "python"
  },
  "orig_nbformat": 4
 },
 "nbformat": 4,
 "nbformat_minor": 2
}
